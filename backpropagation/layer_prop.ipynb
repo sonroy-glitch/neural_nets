{
 "cells": [
  {
   "cell_type": "code",
   "execution_count": null,
   "id": "83f98d96",
   "metadata": {},
   "outputs": [],
   "source": [
    "x = [1.0, -2.0, 3.0] \n",
    "w = [-3.0, -1.0, 2.0] \n",
    "b = 1.0 "
   ]
  },
  {
   "cell_type": "code",
   "execution_count": 2,
   "id": "0c2fcf97",
   "metadata": {},
   "outputs": [],
   "source": [
    "def relu(value):\n",
    "    return max(0,value)"
   ]
  },
  {
   "cell_type": "code",
   "execution_count": null,
   "id": "d82b8ecc",
   "metadata": {},
   "outputs": [],
   "source": [
    "#forward pass\n",
    "xw0 = x[0] * w[0]\n",
    "xw1 = x[1] * w[1] \n",
    "xw2 = x[2] * w[2] \n",
    "z=xw0+xw1+xw2+b"
   ]
  },
  {
   "cell_type": "code",
   "execution_count": 6,
   "id": "816a928b",
   "metadata": {},
   "outputs": [],
   "source": [
    "last_layer=1"
   ]
  },
  {
   "cell_type": "code",
   "execution_count": null,
   "id": "d2537565",
   "metadata": {},
   "outputs": [],
   "source": [
    "def backprop(z):\n",
    "    drelu_dz=1*(1. if z>0 else 0 )\n",
    "    "
   ]
  },
  {
   "cell_type": "code",
   "execution_count": null,
   "id": "cd7174bb",
   "metadata": {},
   "outputs": [],
   "source": []
  },
  {
   "cell_type": "code",
   "execution_count": null,
   "id": "1d461ff8",
   "metadata": {},
   "outputs": [],
   "source": []
  },
  {
   "cell_type": "code",
   "execution_count": null,
   "id": "f502e692",
   "metadata": {},
   "outputs": [],
   "source": []
  }
 ],
 "metadata": {
  "kernelspec": {
   "display_name": "Python 3",
   "language": "python",
   "name": "python3"
  },
  "language_info": {
   "codemirror_mode": {
    "name": "ipython",
    "version": 3
   },
   "file_extension": ".py",
   "mimetype": "text/x-python",
   "name": "python",
   "nbconvert_exporter": "python",
   "pygments_lexer": "ipython3",
   "version": "3.13.4"
  }
 },
 "nbformat": 4,
 "nbformat_minor": 5
}
