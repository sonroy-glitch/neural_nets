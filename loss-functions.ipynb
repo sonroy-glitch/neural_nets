{
 "cells": [
  {
   "cell_type": "markdown",
   "id": "7065736b",
   "metadata": {},
   "source": [
    "#caluclate the loss functions by -sum over log \n"
   ]
  },
  {
   "cell_type": "code",
   "execution_count": 7,
   "id": "18d3ed20",
   "metadata": {},
   "outputs": [
    {
     "name": "stdout",
     "output_type": "stream",
     "text": [
      "[[-0.35667494]\n",
      " [-0.69314718]\n",
      " [-0.10536052]]\n"
     ]
    }
   ],
   "source": [
    "#scalar multiplication \n",
    "import numpy as np\n",
    "softmax_outputs=np.array([\n",
    "    [0.7,0.1,0.2],\n",
    "    [0.1,0.5,0.4],\n",
    "    [0.02,0.9,0.02]\n",
    "])\n",
    "class_targets=np.array([\n",
    "    [1,0,0],\n",
    "    [0,1,0],\n",
    "    [0,1,0]\n",
    "])\n",
    "data=np.sum(softmax_outputs*class_targets,axis=1,keepdims=True)\n",
    "print(np.log(data))"
   ]
  },
  {
   "cell_type": "code",
   "execution_count": 1,
   "id": "c3af0819",
   "metadata": {},
   "outputs": [
    {
     "name": "stdout",
     "output_type": "stream",
     "text": [
      "[1.000000e-07 5.000000e-01 9.999999e-01]\n"
     ]
    }
   ],
   "source": [
    "#clipiing is done to\n",
    "import numpy as np\n",
    "\n",
    "y_pred = np.array([0.0, 0.5, 1.0])\n",
    "y_pred_clipped = np.clip(y_pred, 1e-7, 1 - 1e-7)\n",
    "\n",
    "print(y_pred_clipped)\n",
    "\n"
   ]
  },
  {
   "cell_type": "code",
   "execution_count": null,
   "id": "3aff2454",
   "metadata": {},
   "outputs": [],
   "source": []
  },
  {
   "cell_type": "code",
   "execution_count": null,
   "id": "4d6c02f5",
   "metadata": {},
   "outputs": [],
   "source": []
  }
 ],
 "metadata": {
  "kernelspec": {
   "display_name": "Python 3",
   "language": "python",
   "name": "python3"
  },
  "language_info": {
   "codemirror_mode": {
    "name": "ipython",
    "version": 3
   },
   "file_extension": ".py",
   "mimetype": "text/x-python",
   "name": "python",
   "nbconvert_exporter": "python",
   "pygments_lexer": "ipython3",
   "version": "3.13.4"
  }
 },
 "nbformat": 4,
 "nbformat_minor": 5
}
